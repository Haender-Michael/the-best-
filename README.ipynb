{
 "cells": [
  {
   "cell_type": "code",
   "execution_count": null,
   "id": "16f0377a-4318-4109-a29e-05341868fb93",
   "metadata": {},
   "outputs": [],
   "source": []
  }
 ],
 "metadata": {
  "kernelspec": {
   "display_name": "",
   "name": ""
  },
  "language_info": {
   "name": ""
  }
 },
 "nbformat": 4,
 "nbformat_minor": 5
}
